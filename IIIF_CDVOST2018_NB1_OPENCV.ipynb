{
 "cells": [
  {
   "cell_type": "markdown",
   "metadata": {},
   "source": [
    "# Demo Notebook for the IIIF Workshop at Coding da Vinci Ost 2018 in Leipzig, Germany\n",
    "\n",
    "https://codingdavinci.de/events/ost/\n",
    "\n",
    "This notebook makes use of public IIIF data from the National Gallery of Art.\n",
    "\n",
    "### Step 1: Import some libs."
   ]
  },
  {
   "cell_type": "code",
   "execution_count": 19,
   "metadata": {},
   "outputs": [],
   "source": [
    "%matplotlib inline\n",
    "import numpy as np\n",
    "import urllib.request\n",
    "from matplotlib import pyplot as plt\n",
    "import cv2\n",
    "import json\n",
    "from IPython.display import Image, display\n",
    "from IPython.core.display import HTML \n",
    "import ipywidgets as widgets\n",
    "from random import randint\n",
    "import PIL"
   ]
  },
  {
   "cell_type": "markdown",
   "metadata": {},
   "source": [
    "### Step 2: Read IIIF Image API endpoints from NGAs Highlights Manifest."
   ]
  },
  {
   "cell_type": "code",
   "execution_count": 20,
   "metadata": {
    "scrolled": true
   },
   "outputs": [
    {
     "name": "stdout",
     "output_type": "stream",
     "text": [
      "https://media.nga.gov/iiif/public/objects/1/0/6/3/8/2/106382-primary-0-nativeres.ptif\n",
      "https://media.nga.gov/iiif/public/objects/6/1/3/7/1/61371-primary-0-nativeres.ptif\n",
      "https://media.nga.gov/iiif/public/objects/5/2/1/7/8/52178-primary-0-nativeres.ptif\n",
      "https://media.nga.gov/iiif/public/objects/4/6/6/2/6/46626-primary-0-nativeres.ptif\n",
      "https://media.nga.gov/iiif/public/objects/1/1/3/8/1138-primary-0-nativeres.ptif\n",
      "https://media.nga.gov/iiif/public/objects/4/6/1/5/9/46159-primary-0-nativeres.ptif\n",
      "https://media.nga.gov/iiif/public/objects/3/3/2/5/3/33253-primary-0-nativeres.ptif\n",
      "https://media.nga.gov/iiif/public/objects/1/2/3/1/1231-primary-0-nativeres.ptif\n",
      "https://media.nga.gov/iiif/public/objects/3/7/0/0/3/37003-primary-0-nativeres.ptif\n",
      "https://media.nga.gov/iiif/public/objects/5/7/6/576-primary-0-nativeres.ptif\n",
      "https://media.nga.gov/iiif/public/objects/7/9/79-primary-0-nativeres.ptif\n",
      "https://media.nga.gov/iiif/public/objects/1/2/3/6/1236-primary-0-nativeres.ptif\n",
      "https://media.nga.gov/iiif/public/objects/4/6/3/0/3/46303-primary-0-nativeres.ptif\n",
      "https://media.nga.gov/iiif/public/objects/4/6/4/7/1/46471-primary-0-nativeres.ptif\n",
      "https://media.nga.gov/iiif/public/objects/4/6/1/1/4/46114-primary-0-nativeres.ptif\n",
      "https://media.nga.gov/iiif/public/objects/1/1/4/7/1147-primary-0-nativeres.ptif\n",
      "https://media.nga.gov/iiif/public/objects/1/2/2/5/1225-primary-0-nativeres.ptif\n",
      "https://media.nga.gov/iiif/public/objects/5/2/4/5/0/52450-primary-0-nativeres.ptif\n",
      "https://media.nga.gov/iiif/public/objects/1/2/1/9/8/12198-primary-0-nativeres.ptif\n",
      "https://media.nga.gov/iiif/public/objects/4/3/6/2/4/43624-primary-0-nativeres.ptif\n",
      "https://media.nga.gov/iiif/public/objects/7/4/7/9/6/74796-primary-0-nativeres.ptif\n",
      "https://media.nga.gov/iiif/public/objects/4/6/6/2/7/46627-primary-0-nativeres.ptif\n",
      "https://media.nga.gov/iiif/public/objects/1/3/4/4/8/5/134485-primary-0-nativeres.ptif\n",
      "https://media.nga.gov/iiif/public/objects/6/6/4/0/9/66409-primary-0-nativeres.ptif\n",
      "https://media.nga.gov/iiif/public/objects/3/9/8/398-primary-0-nativeres.ptif\n",
      "https://media.nga.gov/iiif/public/objects/1/6/4/9/2/3/164923-primary-0-nativeres.ptif\n",
      "Ready.\n"
     ]
    }
   ],
   "source": [
    "url = \"https://media.nga.gov/public/manifests/nga_highlights.json\"\n",
    "resp = urllib.request.urlopen(url)\n",
    "data = resp.read().decode(\"utf-8\")\n",
    "data = json.loads(data)\n",
    "pid = 0\n",
    "img_urls = {}\n",
    "for c in data['sequences'][0]['canvases']:\n",
    "    img_urls[pid]=c['images'][0]['resource']['service']['@id']\n",
    "    print (img_urls[pid])\n",
    "    pid = pid +1\n",
    "    \n",
    "print (\"Ready.\")"
   ]
  },
  {
   "cell_type": "markdown",
   "metadata": {},
   "source": [
    "### Step 3: Let's get us some generic progress bar."
   ]
  },
  {
   "cell_type": "code",
   "execution_count": 21,
   "metadata": {},
   "outputs": [],
   "source": [
    "progbar = widgets.IntProgress(\n",
    "    value=0,\n",
    "    min=0,\n",
    "    max=pid,\n",
    "    step=1,\n",
    "    description='Progress:',\n",
    "    bar_style='', # 'success', 'info', 'warning', 'danger' or ''\n",
    "    orientation='horizontal'\n",
    ")"
   ]
  },
  {
   "cell_type": "markdown",
   "metadata": {},
   "source": [
    "### Step 4: Define a function to read a binary image from the web."
   ]
  },
  {
   "cell_type": "code",
   "execution_count": 22,
   "metadata": {},
   "outputs": [],
   "source": [
    "def url_to_image(url):\n",
    "    resp = urllib.request.urlopen(url)\n",
    "    image = np.asarray(bytearray(resp.read()), dtype=\"uint8\")\n",
    "    image = cv2.imdecode(image, cv2.IMREAD_COLOR)\n",
    "    image = cv2.cvtColor(image, cv2.COLOR_BGR2RGB)\n",
    "    return image"
   ]
  },
  {
   "cell_type": "markdown",
   "metadata": {},
   "source": [
    "### Step 5: Read all images with 4% of their actual size."
   ]
  },
  {
   "cell_type": "code",
   "execution_count": 23,
   "metadata": {},
   "outputs": [
    {
     "data": {
      "application/vnd.jupyter.widget-view+json": {
       "model_id": "97af69abd86046c38a713082521a7854",
       "version_major": 2,
       "version_minor": 0
      },
      "text/plain": [
       "IntProgress(value=0, description='Progress:', max=26)"
      ]
     },
     "metadata": {},
     "output_type": "display_data"
    },
    {
     "data": {
      "text/html": [
       "<img src=\"https://media.nga.gov/iiif/public/objects/1/0/6/3/8/2/106382-primary-0-nativeres.ptif/full/pct:4,/0/native.jpg\" width=\"400\" height=\"400\"/>"
      ],
      "text/plain": [
       "<IPython.core.display.Image object>"
      ]
     },
     "metadata": {},
     "output_type": "display_data"
    },
    {
     "data": {
      "text/html": [
       "<img src=\"https://media.nga.gov/iiif/public/objects/6/1/3/7/1/61371-primary-0-nativeres.ptif/full/pct:4,/0/native.jpg\" width=\"400\" height=\"400\"/>"
      ],
      "text/plain": [
       "<IPython.core.display.Image object>"
      ]
     },
     "metadata": {},
     "output_type": "display_data"
    },
    {
     "data": {
      "text/html": [
       "<img src=\"https://media.nga.gov/iiif/public/objects/5/2/1/7/8/52178-primary-0-nativeres.ptif/full/pct:4,/0/native.jpg\" width=\"400\" height=\"400\"/>"
      ],
      "text/plain": [
       "<IPython.core.display.Image object>"
      ]
     },
     "metadata": {},
     "output_type": "display_data"
    },
    {
     "data": {
      "text/html": [
       "<img src=\"https://media.nga.gov/iiif/public/objects/4/6/6/2/6/46626-primary-0-nativeres.ptif/full/pct:4,/0/native.jpg\" width=\"400\" height=\"400\"/>"
      ],
      "text/plain": [
       "<IPython.core.display.Image object>"
      ]
     },
     "metadata": {},
     "output_type": "display_data"
    },
    {
     "data": {
      "text/html": [
       "<img src=\"https://media.nga.gov/iiif/public/objects/1/1/3/8/1138-primary-0-nativeres.ptif/full/pct:4,/0/native.jpg\" width=\"400\" height=\"400\"/>"
      ],
      "text/plain": [
       "<IPython.core.display.Image object>"
      ]
     },
     "metadata": {},
     "output_type": "display_data"
    },
    {
     "data": {
      "text/html": [
       "<img src=\"https://media.nga.gov/iiif/public/objects/4/6/1/5/9/46159-primary-0-nativeres.ptif/full/pct:4,/0/native.jpg\" width=\"400\" height=\"400\"/>"
      ],
      "text/plain": [
       "<IPython.core.display.Image object>"
      ]
     },
     "metadata": {},
     "output_type": "display_data"
    },
    {
     "data": {
      "text/html": [
       "<img src=\"https://media.nga.gov/iiif/public/objects/3/3/2/5/3/33253-primary-0-nativeres.ptif/full/pct:4,/0/native.jpg\" width=\"400\" height=\"400\"/>"
      ],
      "text/plain": [
       "<IPython.core.display.Image object>"
      ]
     },
     "metadata": {},
     "output_type": "display_data"
    },
    {
     "data": {
      "text/html": [
       "<img src=\"https://media.nga.gov/iiif/public/objects/1/2/3/1/1231-primary-0-nativeres.ptif/full/pct:4,/0/native.jpg\" width=\"400\" height=\"400\"/>"
      ],
      "text/plain": [
       "<IPython.core.display.Image object>"
      ]
     },
     "metadata": {},
     "output_type": "display_data"
    },
    {
     "data": {
      "text/html": [
       "<img src=\"https://media.nga.gov/iiif/public/objects/3/7/0/0/3/37003-primary-0-nativeres.ptif/full/pct:4,/0/native.jpg\" width=\"400\" height=\"400\"/>"
      ],
      "text/plain": [
       "<IPython.core.display.Image object>"
      ]
     },
     "metadata": {},
     "output_type": "display_data"
    },
    {
     "data": {
      "text/html": [
       "<img src=\"https://media.nga.gov/iiif/public/objects/5/7/6/576-primary-0-nativeres.ptif/full/pct:4,/0/native.jpg\" width=\"400\" height=\"400\"/>"
      ],
      "text/plain": [
       "<IPython.core.display.Image object>"
      ]
     },
     "metadata": {},
     "output_type": "display_data"
    },
    {
     "data": {
      "text/html": [
       "<img src=\"https://media.nga.gov/iiif/public/objects/7/9/79-primary-0-nativeres.ptif/full/pct:4,/0/native.jpg\" width=\"400\" height=\"400\"/>"
      ],
      "text/plain": [
       "<IPython.core.display.Image object>"
      ]
     },
     "metadata": {},
     "output_type": "display_data"
    },
    {
     "data": {
      "text/html": [
       "<img src=\"https://media.nga.gov/iiif/public/objects/1/2/3/6/1236-primary-0-nativeres.ptif/full/pct:4,/0/native.jpg\" width=\"400\" height=\"400\"/>"
      ],
      "text/plain": [
       "<IPython.core.display.Image object>"
      ]
     },
     "metadata": {},
     "output_type": "display_data"
    },
    {
     "data": {
      "text/html": [
       "<img src=\"https://media.nga.gov/iiif/public/objects/4/6/3/0/3/46303-primary-0-nativeres.ptif/full/pct:4,/0/native.jpg\" width=\"400\" height=\"400\"/>"
      ],
      "text/plain": [
       "<IPython.core.display.Image object>"
      ]
     },
     "metadata": {},
     "output_type": "display_data"
    },
    {
     "data": {
      "text/html": [
       "<img src=\"https://media.nga.gov/iiif/public/objects/4/6/4/7/1/46471-primary-0-nativeres.ptif/full/pct:4,/0/native.jpg\" width=\"400\" height=\"400\"/>"
      ],
      "text/plain": [
       "<IPython.core.display.Image object>"
      ]
     },
     "metadata": {},
     "output_type": "display_data"
    },
    {
     "data": {
      "text/html": [
       "<img src=\"https://media.nga.gov/iiif/public/objects/4/6/1/1/4/46114-primary-0-nativeres.ptif/full/pct:4,/0/native.jpg\" width=\"400\" height=\"400\"/>"
      ],
      "text/plain": [
       "<IPython.core.display.Image object>"
      ]
     },
     "metadata": {},
     "output_type": "display_data"
    },
    {
     "data": {
      "text/html": [
       "<img src=\"https://media.nga.gov/iiif/public/objects/1/1/4/7/1147-primary-0-nativeres.ptif/full/pct:4,/0/native.jpg\" width=\"400\" height=\"400\"/>"
      ],
      "text/plain": [
       "<IPython.core.display.Image object>"
      ]
     },
     "metadata": {},
     "output_type": "display_data"
    },
    {
     "data": {
      "text/html": [
       "<img src=\"https://media.nga.gov/iiif/public/objects/1/2/2/5/1225-primary-0-nativeres.ptif/full/pct:4,/0/native.jpg\" width=\"400\" height=\"400\"/>"
      ],
      "text/plain": [
       "<IPython.core.display.Image object>"
      ]
     },
     "metadata": {},
     "output_type": "display_data"
    },
    {
     "data": {
      "text/html": [
       "<img src=\"https://media.nga.gov/iiif/public/objects/5/2/4/5/0/52450-primary-0-nativeres.ptif/full/pct:4,/0/native.jpg\" width=\"400\" height=\"400\"/>"
      ],
      "text/plain": [
       "<IPython.core.display.Image object>"
      ]
     },
     "metadata": {},
     "output_type": "display_data"
    },
    {
     "data": {
      "text/html": [
       "<img src=\"https://media.nga.gov/iiif/public/objects/1/2/1/9/8/12198-primary-0-nativeres.ptif/full/pct:4,/0/native.jpg\" width=\"400\" height=\"400\"/>"
      ],
      "text/plain": [
       "<IPython.core.display.Image object>"
      ]
     },
     "metadata": {},
     "output_type": "display_data"
    },
    {
     "data": {
      "text/html": [
       "<img src=\"https://media.nga.gov/iiif/public/objects/4/3/6/2/4/43624-primary-0-nativeres.ptif/full/pct:4,/0/native.jpg\" width=\"400\" height=\"400\"/>"
      ],
      "text/plain": [
       "<IPython.core.display.Image object>"
      ]
     },
     "metadata": {},
     "output_type": "display_data"
    },
    {
     "data": {
      "text/html": [
       "<img src=\"https://media.nga.gov/iiif/public/objects/7/4/7/9/6/74796-primary-0-nativeres.ptif/full/pct:4,/0/native.jpg\" width=\"400\" height=\"400\"/>"
      ],
      "text/plain": [
       "<IPython.core.display.Image object>"
      ]
     },
     "metadata": {},
     "output_type": "display_data"
    },
    {
     "data": {
      "text/html": [
       "<img src=\"https://media.nga.gov/iiif/public/objects/4/6/6/2/7/46627-primary-0-nativeres.ptif/full/pct:4,/0/native.jpg\" width=\"400\" height=\"400\"/>"
      ],
      "text/plain": [
       "<IPython.core.display.Image object>"
      ]
     },
     "metadata": {},
     "output_type": "display_data"
    },
    {
     "data": {
      "text/html": [
       "<img src=\"https://media.nga.gov/iiif/public/objects/1/3/4/4/8/5/134485-primary-0-nativeres.ptif/full/pct:4,/0/native.jpg\" width=\"400\" height=\"400\"/>"
      ],
      "text/plain": [
       "<IPython.core.display.Image object>"
      ]
     },
     "metadata": {},
     "output_type": "display_data"
    },
    {
     "data": {
      "text/html": [
       "<img src=\"https://media.nga.gov/iiif/public/objects/6/6/4/0/9/66409-primary-0-nativeres.ptif/full/pct:4,/0/native.jpg\" width=\"400\" height=\"400\"/>"
      ],
      "text/plain": [
       "<IPython.core.display.Image object>"
      ]
     },
     "metadata": {},
     "output_type": "display_data"
    },
    {
     "data": {
      "text/html": [
       "<img src=\"https://media.nga.gov/iiif/public/objects/3/9/8/398-primary-0-nativeres.ptif/full/pct:4,/0/native.jpg\" width=\"400\" height=\"400\"/>"
      ],
      "text/plain": [
       "<IPython.core.display.Image object>"
      ]
     },
     "metadata": {},
     "output_type": "display_data"
    },
    {
     "data": {
      "text/html": [
       "<img src=\"https://media.nga.gov/iiif/public/objects/1/6/4/9/2/3/164923-primary-0-nativeres.ptif/full/pct:4,/0/native.jpg\" width=\"400\" height=\"400\"/>"
      ],
      "text/plain": [
       "<IPython.core.display.Image object>"
      ]
     },
     "metadata": {},
     "output_type": "display_data"
    }
   ],
   "source": [
    "display(progbar)\n",
    "\n",
    "img_smalls = {}\n",
    "for pid in img_urls:\n",
    "    progbar.value = pid\n",
    "    turl = img_urls[pid]+\"/full/pct:4,/0/native.jpg\"\n",
    "    img_smalls[pid] = url_to_image(turl)\n",
    "    display(Image(url=turl, width=400, height=400))\n",
    "    if pid == 1000:\n",
    "        break"
   ]
  },
  {
   "cell_type": "markdown",
   "metadata": {},
   "source": [
    "### Step 6: Get us a function to detect faces using the opencv lib."
   ]
  },
  {
   "cell_type": "code",
   "execution_count": 24,
   "metadata": {},
   "outputs": [],
   "source": [
    "def analyze_images(image):\n",
    "    faceCascade = cv2.CascadeClassifier(\"haarcascade_frontalface_alt.xml\")\n",
    "    faces = faceCascade.detectMultiScale(\n",
    "        image,\n",
    "        scaleFactor=1.1,\n",
    "        minNeighbors=3,\n",
    "        minSize=(20, 20),\n",
    "        flags = cv2.CASCADE_SCALE_IMAGE\n",
    "    )\n",
    "    return faces"
   ]
  },
  {
   "cell_type": "markdown",
   "metadata": {},
   "source": [
    "### Step 7: Find all faces in the images.\n",
    "Save all coodinates multiplied by 25 as we retrieved the images scaled to 4%."
   ]
  },
  {
   "cell_type": "code",
   "execution_count": 25,
   "metadata": {},
   "outputs": [
    {
     "data": {
      "application/vnd.jupyter.widget-view+json": {
       "model_id": "97af69abd86046c38a713082521a7854",
       "version_major": 2,
       "version_minor": 0
      },
      "text/plain": [
       "IntProgress(value=25, description='Progress:', max=26)"
      ]
     },
     "metadata": {},
     "output_type": "display_data"
    },
    {
     "name": "stdout",
     "output_type": "stream",
     "text": [
      "Found 13 faces!\n"
     ]
    }
   ],
   "source": [
    "display(progbar)\n",
    "\n",
    "faces_xy = {}\n",
    "fid = 0\n",
    "for pid in img_smalls:\n",
    "    progbar.value=pid\n",
    "    faces = analyze_images(img_smalls[pid])\n",
    "    for (x, y, w, h) in faces:\n",
    "        faces_xy[fid] = {}\n",
    "        faces_xy[fid]['pid'] = pid\n",
    "        faces_xy[fid]['x'] = x*25\n",
    "        faces_xy[fid]['y'] = y*25\n",
    "        faces_xy[fid]['w'] = w*25\n",
    "        faces_xy[fid]['h'] = h*25\n",
    "        fid = fid +1\n",
    "        \n",
    "print (\"Found {0} faces!\".format(len(faces_xy)))"
   ]
  },
  {
   "cell_type": "markdown",
   "metadata": {},
   "source": [
    "### Step 8: Generate URLs to the facial regions for each recognized face."
   ]
  },
  {
   "cell_type": "code",
   "execution_count": 26,
   "metadata": {
    "scrolled": true
   },
   "outputs": [],
   "source": [
    "for fid in faces_xy:\n",
    "    pid = faces_xy[fid]['pid']\n",
    "    x = faces_xy[fid]['x']\n",
    "    y = faces_xy[fid]['y']\n",
    "    w = faces_xy[fid]['w']\n",
    "    h = faces_xy[fid]['h']\n",
    "    url = img_urls[pid]+\"/%d,%d,%d,%d/300,/0/native.jpg\"%(x,y,w,h)\n",
    "    faces_xy[fid]['quick_url'] = url"
   ]
  },
  {
   "cell_type": "markdown",
   "metadata": {},
   "source": [
    "### Step 9: Display what we have done so far."
   ]
  },
  {
   "cell_type": "code",
   "execution_count": 27,
   "metadata": {},
   "outputs": [
    {
     "name": "stdout",
     "output_type": "stream",
     "text": [
      "https://media.nga.gov/iiif/public/objects/1/0/6/3/8/2/106382-primary-0-nativeres.ptif/2275,2475,4000,4000/300,/0/native.jpg\n"
     ]
    },
    {
     "data": {
      "text/html": [
       "<img src=\"https://media.nga.gov/iiif/public/objects/1/0/6/3/8/2/106382-primary-0-nativeres.ptif/2275,2475,4000,4000/300,/0/native.jpg\"/>"
      ],
      "text/plain": [
       "<IPython.core.display.Image object>"
      ]
     },
     "metadata": {},
     "output_type": "display_data"
    },
    {
     "name": "stdout",
     "output_type": "stream",
     "text": [
      "https://media.nga.gov/iiif/public/objects/4/6/6/2/6/46626-primary-0-nativeres.ptif/4850,1425,2850,2850/300,/0/native.jpg\n"
     ]
    },
    {
     "data": {
      "text/html": [
       "<img src=\"https://media.nga.gov/iiif/public/objects/4/6/6/2/6/46626-primary-0-nativeres.ptif/4850,1425,2850,2850/300,/0/native.jpg\"/>"
      ],
      "text/plain": [
       "<IPython.core.display.Image object>"
      ]
     },
     "metadata": {},
     "output_type": "display_data"
    },
    {
     "name": "stdout",
     "output_type": "stream",
     "text": [
      "https://media.nga.gov/iiif/public/objects/1/1/3/8/1138-primary-0-nativeres.ptif/18850,13750,825,825/300,/0/native.jpg\n"
     ]
    },
    {
     "data": {
      "text/html": [
       "<img src=\"https://media.nga.gov/iiif/public/objects/1/1/3/8/1138-primary-0-nativeres.ptif/18850,13750,825,825/300,/0/native.jpg\"/>"
      ],
      "text/plain": [
       "<IPython.core.display.Image object>"
      ]
     },
     "metadata": {},
     "output_type": "display_data"
    },
    {
     "name": "stdout",
     "output_type": "stream",
     "text": [
      "https://media.nga.gov/iiif/public/objects/1/1/3/8/1138-primary-0-nativeres.ptif/15725,17275,900,900/300,/0/native.jpg\n"
     ]
    },
    {
     "data": {
      "text/html": [
       "<img src=\"https://media.nga.gov/iiif/public/objects/1/1/3/8/1138-primary-0-nativeres.ptif/15725,17275,900,900/300,/0/native.jpg\"/>"
      ],
      "text/plain": [
       "<IPython.core.display.Image object>"
      ]
     },
     "metadata": {},
     "output_type": "display_data"
    },
    {
     "name": "stdout",
     "output_type": "stream",
     "text": [
      "https://media.nga.gov/iiif/public/objects/1/1/3/8/1138-primary-0-nativeres.ptif/17225,13175,925,925/300,/0/native.jpg\n"
     ]
    },
    {
     "data": {
      "text/html": [
       "<img src=\"https://media.nga.gov/iiif/public/objects/1/1/3/8/1138-primary-0-nativeres.ptif/17225,13175,925,925/300,/0/native.jpg\"/>"
      ],
      "text/plain": [
       "<IPython.core.display.Image object>"
      ]
     },
     "metadata": {},
     "output_type": "display_data"
    },
    {
     "name": "stdout",
     "output_type": "stream",
     "text": [
      "https://media.nga.gov/iiif/public/objects/1/1/3/8/1138-primary-0-nativeres.ptif/14125,17425,775,775/300,/0/native.jpg\n"
     ]
    },
    {
     "data": {
      "text/html": [
       "<img src=\"https://media.nga.gov/iiif/public/objects/1/1/3/8/1138-primary-0-nativeres.ptif/14125,17425,775,775/300,/0/native.jpg\"/>"
      ],
      "text/plain": [
       "<IPython.core.display.Image object>"
      ]
     },
     "metadata": {},
     "output_type": "display_data"
    },
    {
     "name": "stdout",
     "output_type": "stream",
     "text": [
      "https://media.nga.gov/iiif/public/objects/1/1/3/8/1138-primary-0-nativeres.ptif/20525,17250,950,950/300,/0/native.jpg\n"
     ]
    },
    {
     "data": {
      "text/html": [
       "<img src=\"https://media.nga.gov/iiif/public/objects/1/1/3/8/1138-primary-0-nativeres.ptif/20525,17250,950,950/300,/0/native.jpg\"/>"
      ],
      "text/plain": [
       "<IPython.core.display.Image object>"
      ]
     },
     "metadata": {},
     "output_type": "display_data"
    },
    {
     "name": "stdout",
     "output_type": "stream",
     "text": [
      "https://media.nga.gov/iiif/public/objects/4/6/1/5/9/46159-primary-0-nativeres.ptif/1225,900,625,625/300,/0/native.jpg\n"
     ]
    },
    {
     "data": {
      "text/html": [
       "<img src=\"https://media.nga.gov/iiif/public/objects/4/6/1/5/9/46159-primary-0-nativeres.ptif/1225,900,625,625/300,/0/native.jpg\"/>"
      ],
      "text/plain": [
       "<IPython.core.display.Image object>"
      ]
     },
     "metadata": {},
     "output_type": "display_data"
    },
    {
     "name": "stdout",
     "output_type": "stream",
     "text": [
      "https://media.nga.gov/iiif/public/objects/3/7/0/0/3/37003-primary-0-nativeres.ptif/3750,4425,4000,4000/300,/0/native.jpg\n"
     ]
    },
    {
     "data": {
      "text/html": [
       "<img src=\"https://media.nga.gov/iiif/public/objects/3/7/0/0/3/37003-primary-0-nativeres.ptif/3750,4425,4000,4000/300,/0/native.jpg\"/>"
      ],
      "text/plain": [
       "<IPython.core.display.Image object>"
      ]
     },
     "metadata": {},
     "output_type": "display_data"
    },
    {
     "name": "stdout",
     "output_type": "stream",
     "text": [
      "https://media.nga.gov/iiif/public/objects/7/9/79-primary-0-nativeres.ptif/4625,3025,3725,3725/300,/0/native.jpg\n"
     ]
    },
    {
     "data": {
      "text/html": [
       "<img src=\"https://media.nga.gov/iiif/public/objects/7/9/79-primary-0-nativeres.ptif/4625,3025,3725,3725/300,/0/native.jpg\"/>"
      ],
      "text/plain": [
       "<IPython.core.display.Image object>"
      ]
     },
     "metadata": {},
     "output_type": "display_data"
    },
    {
     "name": "stdout",
     "output_type": "stream",
     "text": [
      "https://media.nga.gov/iiif/public/objects/4/6/1/1/4/46114-primary-0-nativeres.ptif/6675,3300,2275,2275/300,/0/native.jpg\n"
     ]
    },
    {
     "data": {
      "text/html": [
       "<img src=\"https://media.nga.gov/iiif/public/objects/4/6/1/1/4/46114-primary-0-nativeres.ptif/6675,3300,2275,2275/300,/0/native.jpg\"/>"
      ],
      "text/plain": [
       "<IPython.core.display.Image object>"
      ]
     },
     "metadata": {},
     "output_type": "display_data"
    },
    {
     "name": "stdout",
     "output_type": "stream",
     "text": [
      "https://media.nga.gov/iiif/public/objects/1/2/1/9/8/12198-primary-0-nativeres.ptif/3675,1475,1450,1450/300,/0/native.jpg\n"
     ]
    },
    {
     "data": {
      "text/html": [
       "<img src=\"https://media.nga.gov/iiif/public/objects/1/2/1/9/8/12198-primary-0-nativeres.ptif/3675,1475,1450,1450/300,/0/native.jpg\"/>"
      ],
      "text/plain": [
       "<IPython.core.display.Image object>"
      ]
     },
     "metadata": {},
     "output_type": "display_data"
    },
    {
     "name": "stdout",
     "output_type": "stream",
     "text": [
      "https://media.nga.gov/iiif/public/objects/3/9/8/398-primary-0-nativeres.ptif/2450,3025,2775,2775/300,/0/native.jpg\n"
     ]
    },
    {
     "data": {
      "text/html": [
       "<img src=\"https://media.nga.gov/iiif/public/objects/3/9/8/398-primary-0-nativeres.ptif/2450,3025,2775,2775/300,/0/native.jpg\"/>"
      ],
      "text/plain": [
       "<IPython.core.display.Image object>"
      ]
     },
     "metadata": {},
     "output_type": "display_data"
    }
   ],
   "source": [
    "for fid in faces_xy:\n",
    "    print(faces_xy[fid]['quick_url'])\n",
    "    display(Image(url=faces_xy[fid]['quick_url']))\n",
    "    "
   ]
  },
  {
   "cell_type": "markdown",
   "metadata": {},
   "source": [
    "### Use Case 1: A IIIF Memory Game\n",
    "\n",
    "Write all face URLs to a Javascript file in order to feed them into a Memory game. This game actually uses IIIF Image API endpoints. "
   ]
  },
  {
   "cell_type": "code",
   "execution_count": 152,
   "metadata": {},
   "outputs": [
    {
     "data": {
      "text/html": [
       "<a target=\"_blank\" href=\"game/game.html\">Game</a>"
      ],
      "text/plain": [
       "<IPython.core.display.HTML object>"
      ]
     },
     "execution_count": 152,
     "metadata": {},
     "output_type": "execute_result"
    }
   ],
   "source": [
    "file = open(\"game/urls.js\",\"w\") \n",
    "file.write(\"var urls=[\") \n",
    "for fid in faces_xy:\n",
    "    if fid > 0:\n",
    "        file.write(\",\")\n",
    "    file.write('\"'+faces_xy[fid]['quick_url']+'\"')\n",
    "file.write(\"];\")  \n",
    "file.close() \n",
    "\n",
    "HTML('<a target=\"_blank\" href=\"game/game.html\">Game</a>')"
   ]
  },
  {
   "cell_type": "markdown",
   "metadata": {},
   "source": [
    "### Use Case 2: Random Avatar Generator.\n",
    "\n",
    "Choose randomly the upper 50% of a face, the middle 20% of another face and the lower 30% of a third face and combine it to a random patchwork portrait. Click on the image parts to flip the image horizontally."
   ]
  },
  {
   "cell_type": "code",
   "execution_count": 153,
   "metadata": {
    "scrolled": true
   },
   "outputs": [
    {
     "data": {
      "text/html": [
       "<a target=\"_blank\" href=\"generator/index.html\">Generator</a>"
      ],
      "text/plain": [
       "<IPython.core.display.HTML object>"
      ]
     },
     "execution_count": 153,
     "metadata": {},
     "output_type": "execute_result"
    }
   ],
   "source": [
    "efile = open(\"generator/eurls.js\",\"w\") \n",
    "efile.write(\"var eurls=[\") \n",
    "\n",
    "nfile = open(\"generator/nurls.js\",\"w\") \n",
    "nfile.write(\"var nurls=[\") \n",
    "\n",
    "mfile = open(\"generator/murls.js\",\"w\") \n",
    "mfile.write(\"var murls=[\") \n",
    "\n",
    "for fid in faces_xy:\n",
    "    if fid > 0:\n",
    "        efile.write(\",\")\n",
    "        nfile.write(\",\")\n",
    "        mfile.write(\",\")\n",
    "    u = img_urls[faces_xy[fid]['pid']]\n",
    "    x = faces_xy[fid]['x']\n",
    "    y = faces_xy[fid]['y']\n",
    "    w = faces_xy[fid]['w']\n",
    "    h = faces_xy[fid]['h']\n",
    "    efile.write('\"'+u+\"/%d,%d,%d,%d/300,/0/native.jpg\"%(x,y,w,int(h*0.5))+'\"');\n",
    "    nfile.write('\"'+u+\"/%d,%d,%d,%d/300,/0/native.jpg\"%(x,y+int(h*0.5),w,int(h*0.2))+'\"');\n",
    "    mfile.write('\"'+u+\"/%d,%d,%d,%d/300,/0/native.jpg\"%(x,y+int(h*0.7),w,int(h*0.3))+'\"');\n",
    "\n",
    "efile.write(\"];\")  \n",
    "efile.close() \n",
    "\n",
    "nfile.write(\"];\")  \n",
    "nfile.close() \n",
    "\n",
    "mfile.write(\"];\")  \n",
    "mfile.close() \n",
    "\n",
    "HTML('<a target=\"_blank\" href=\"generator/index.html\">Generator</a>')"
   ]
  },
  {
   "cell_type": "code",
   "execution_count": null,
   "metadata": {},
   "outputs": [],
   "source": []
  }
 ],
 "metadata": {
  "kernelspec": {
   "display_name": "Python 3",
   "language": "python",
   "name": "python3"
  },
  "language_info": {
   "codemirror_mode": {
    "name": "ipython",
    "version": 3
   },
   "file_extension": ".py",
   "mimetype": "text/x-python",
   "name": "python",
   "nbconvert_exporter": "python",
   "pygments_lexer": "ipython3",
   "version": "3.5.2"
  }
 },
 "nbformat": 4,
 "nbformat_minor": 2
}
